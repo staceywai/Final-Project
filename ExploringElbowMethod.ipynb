{
 "cells": [
  {
   "cell_type": "code",
   "execution_count": 6,
   "metadata": {},
   "outputs": [
    {
     "data": {
      "text/html": [
       "<div>\n",
       "<style scoped>\n",
       "    .dataframe tbody tr th:only-of-type {\n",
       "        vertical-align: middle;\n",
       "    }\n",
       "\n",
       "    .dataframe tbody tr th {\n",
       "        vertical-align: top;\n",
       "    }\n",
       "\n",
       "    .dataframe thead th {\n",
       "        text-align: right;\n",
       "    }\n",
       "</style>\n",
       "<table border=\"1\" class=\"dataframe\">\n",
       "  <thead>\n",
       "    <tr style=\"text-align: right;\">\n",
       "      <th></th>\n",
       "      <th>country_id</th>\n",
       "      <th>Happiness_Score</th>\n",
       "      <th>GDP</th>\n",
       "      <th>Social_Support</th>\n",
       "      <th>Life_Expectancy (Happiness)</th>\n",
       "      <th>Freedom_Score</th>\n",
       "      <th>Generosity</th>\n",
       "      <th>Corruption_Score</th>\n",
       "      <th>Happiness (Dystopia)</th>\n",
       "      <th>Beer_Servings</th>\n",
       "      <th>...</th>\n",
       "      <th>under-fivedeaths</th>\n",
       "      <th>Polio</th>\n",
       "      <th>Diphtheria</th>\n",
       "      <th>HIV/AIDS</th>\n",
       "      <th>GDP.1</th>\n",
       "      <th>Population</th>\n",
       "      <th>thinness1-19years</th>\n",
       "      <th>thinness5-9years</th>\n",
       "      <th>HDI</th>\n",
       "      <th>Schooling</th>\n",
       "    </tr>\n",
       "  </thead>\n",
       "  <tbody>\n",
       "    <tr>\n",
       "      <th>0</th>\n",
       "      <td>0.000000</td>\n",
       "      <td>1.000000</td>\n",
       "      <td>0.929138</td>\n",
       "      <td>0.979132</td>\n",
       "      <td>0.936153</td>\n",
       "      <td>0.973512</td>\n",
       "      <td>-0.106092</td>\n",
       "      <td>0.208901</td>\n",
       "      <td>1.0</td>\n",
       "      <td>0.699468</td>\n",
       "      <td>...</td>\n",
       "      <td>0.0</td>\n",
       "      <td>0.979798</td>\n",
       "      <td>0.979798</td>\n",
       "      <td>0.010753</td>\n",
       "      <td>0.075068</td>\n",
       "      <td>0.021225</td>\n",
       "      <td>0.033708</td>\n",
       "      <td>0.029304</td>\n",
       "      <td>0.941983</td>\n",
       "      <td>0.833333</td>\n",
       "    </tr>\n",
       "    <tr>\n",
       "      <th>1</th>\n",
       "      <td>0.006494</td>\n",
       "      <td>0.979113</td>\n",
       "      <td>0.940905</td>\n",
       "      <td>0.980836</td>\n",
       "      <td>0.942685</td>\n",
       "      <td>0.975842</td>\n",
       "      <td>0.118077</td>\n",
       "      <td>0.180090</td>\n",
       "      <td>1.0</td>\n",
       "      <td>0.595745</td>\n",
       "      <td>...</td>\n",
       "      <td>0.0</td>\n",
       "      <td>0.939394</td>\n",
       "      <td>0.939394</td>\n",
       "      <td>0.010753</td>\n",
       "      <td>0.093974</td>\n",
       "      <td>0.022015</td>\n",
       "      <td>0.041199</td>\n",
       "      <td>0.032967</td>\n",
       "      <td>0.973629</td>\n",
       "      <td>0.941176</td>\n",
       "    </tr>\n",
       "    <tr>\n",
       "      <th>2</th>\n",
       "      <td>0.012987</td>\n",
       "      <td>0.968138</td>\n",
       "      <td>0.958889</td>\n",
       "      <td>0.967350</td>\n",
       "      <td>0.964818</td>\n",
       "      <td>0.944962</td>\n",
       "      <td>0.188903</td>\n",
       "      <td>0.324640</td>\n",
       "      <td>1.0</td>\n",
       "      <td>0.492021</td>\n",
       "      <td>...</td>\n",
       "      <td>0.0</td>\n",
       "      <td>0.979798</td>\n",
       "      <td>0.979798</td>\n",
       "      <td>0.010753</td>\n",
       "      <td>0.158959</td>\n",
       "      <td>0.032082</td>\n",
       "      <td>0.014981</td>\n",
       "      <td>0.010989</td>\n",
       "      <td>0.989451</td>\n",
       "      <td>0.784314</td>\n",
       "    </tr>\n",
       "    <tr>\n",
       "      <th>3</th>\n",
       "      <td>0.019481</td>\n",
       "      <td>0.961043</td>\n",
       "      <td>0.940779</td>\n",
       "      <td>1.000000</td>\n",
       "      <td>0.950464</td>\n",
       "      <td>0.973224</td>\n",
       "      <td>0.440450</td>\n",
       "      <td>0.760711</td>\n",
       "      <td>1.0</td>\n",
       "      <td>0.619681</td>\n",
       "      <td>...</td>\n",
       "      <td>0.0</td>\n",
       "      <td>0.929293</td>\n",
       "      <td>0.929293</td>\n",
       "      <td>0.010753</td>\n",
       "      <td>0.101397</td>\n",
       "      <td>0.000131</td>\n",
       "      <td>0.037453</td>\n",
       "      <td>0.032967</td>\n",
       "      <td>0.969409</td>\n",
       "      <td>0.931373</td>\n",
       "    </tr>\n",
       "    <tr>\n",
       "      <th>4</th>\n",
       "      <td>0.025974</td>\n",
       "      <td>0.958930</td>\n",
       "      <td>0.968310</td>\n",
       "      <td>0.977240</td>\n",
       "      <td>0.953078</td>\n",
       "      <td>0.980259</td>\n",
       "      <td>0.239952</td>\n",
       "      <td>0.281341</td>\n",
       "      <td>1.0</td>\n",
       "      <td>0.449468</td>\n",
       "      <td>...</td>\n",
       "      <td>0.0</td>\n",
       "      <td>0.959596</td>\n",
       "      <td>0.959596</td>\n",
       "      <td>0.010753</td>\n",
       "      <td>0.131824</td>\n",
       "      <td>0.002010</td>\n",
       "      <td>0.029963</td>\n",
       "      <td>0.025641</td>\n",
       "      <td>1.000000</td>\n",
       "      <td>0.867647</td>\n",
       "    </tr>\n",
       "  </tbody>\n",
       "</table>\n",
       "<p>5 rows × 30 columns</p>\n",
       "</div>"
      ],
      "text/plain": [
       "   country_id  Happiness_Score       GDP  Social_Support  \\\n",
       "0    0.000000         1.000000  0.929138        0.979132   \n",
       "1    0.006494         0.979113  0.940905        0.980836   \n",
       "2    0.012987         0.968138  0.958889        0.967350   \n",
       "3    0.019481         0.961043  0.940779        1.000000   \n",
       "4    0.025974         0.958930  0.968310        0.977240   \n",
       "\n",
       "   Life_Expectancy (Happiness)  Freedom_Score  Generosity  Corruption_Score  \\\n",
       "0                     0.936153       0.973512   -0.106092          0.208901   \n",
       "1                     0.942685       0.975842    0.118077          0.180090   \n",
       "2                     0.964818       0.944962    0.188903          0.324640   \n",
       "3                     0.950464       0.973224    0.440450          0.760711   \n",
       "4                     0.953078       0.980259    0.239952          0.281341   \n",
       "\n",
       "   Happiness (Dystopia)  Beer_Servings  ...  under-fivedeaths     Polio  \\\n",
       "0                   1.0       0.699468  ...               0.0  0.979798   \n",
       "1                   1.0       0.595745  ...               0.0  0.939394   \n",
       "2                   1.0       0.492021  ...               0.0  0.979798   \n",
       "3                   1.0       0.619681  ...               0.0  0.929293   \n",
       "4                   1.0       0.449468  ...               0.0  0.959596   \n",
       "\n",
       "   Diphtheria  HIV/AIDS     GDP.1  Population  thinness1-19years  \\\n",
       "0    0.979798  0.010753  0.075068    0.021225           0.033708   \n",
       "1    0.939394  0.010753  0.093974    0.022015           0.041199   \n",
       "2    0.979798  0.010753  0.158959    0.032082           0.014981   \n",
       "3    0.929293  0.010753  0.101397    0.000131           0.037453   \n",
       "4    0.959596  0.010753  0.131824    0.002010           0.029963   \n",
       "\n",
       "   thinness5-9years       HDI  Schooling  \n",
       "0          0.029304  0.941983   0.833333  \n",
       "1          0.032967  0.973629   0.941176  \n",
       "2          0.010989  0.989451   0.784314  \n",
       "3          0.032967  0.969409   0.931373  \n",
       "4          0.025641  1.000000   0.867647  \n",
       "\n",
       "[5 rows x 30 columns]"
      ]
     },
     "execution_count": 6,
     "metadata": {},
     "output_type": "execute_result"
    }
   ],
   "source": [
    "import pandas as pd\n",
    "import numpy as np\n",
    "import matplotlib.pyplot as plt\n",
    "from matplotlib import style \n",
    "\n",
    "from sklearn.cluster import KMeans\n",
    "from sklearn import datasets\n",
    "from sklearn.datasets.samples_generator import make_blobs \n",
    "\n",
    "\n",
    "df=pd.read_csv('Resources/Data/scaled_data.csv')\n",
    "df=df.drop(columns=['Unnamed: 0'])\n",
    "df.head()"
   ]
  },
  {
   "cell_type": "code",
   "execution_count": 8,
   "metadata": {},
   "outputs": [
    {
     "data": {
      "image/png": "[encoded data removed]",
      "text/plain": [
       "<Figure size 432x288 with 1 Axes>"
      ]
     },
     "metadata": {},
     "output_type": "display_data"
    },
    {
     "data": {
      "text/plain": [
       "<Figure size 432x288 with 0 Axes>"
      ]
     },
     "metadata": {},
     "output_type": "display_data"
    }
   ],
   "source": [
    "#Not sure how to make this work with our data atm\n",
    "style.use(\"fivethirtyeight\") \n",
    "\n",
    "# make_blobs() is used to generate sample points \n",
    "# around c centers (randomly chosen) \n",
    "X, y = make_blobs(n_samples = 100, centers = 4, \n",
    "\t\t\t\tcluster_std = 1, n_features = 2) \n",
    "\t\t\t\t\n",
    "plt.scatter(X[:, 0], X[:, 1], s = 30, color ='b') \n",
    "\n",
    "# label the axes \n",
    "plt.xlabel('X') \n",
    "plt.ylabel('Y') \n",
    "\n",
    "plt.show() \n",
    "plt.clf() # clear the figure \n"
   ]
  },
  {
   "cell_type": "code",
   "execution_count": 3,
   "metadata": {},
   "outputs": [],
   "source": [
    "distortions = []\n",
    "K = range(1,10)\n",
    "for k in K:\n",
    "    kmeanModel = KMeans(n_clusters=k)\n",
    "    kmeanModel.fit(df)\n",
    "    distortions.append(kmeanModel.inertia_)"
   ]
  },
  {
   "cell_type": "code",
   "execution_count": 9,
   "metadata": {
    "scrolled": true
   },
   "outputs": [
    {
     "data": {
      "image/png": "[encoded data removed]",
      "text/plain": [
       "<Figure size 1152x576 with 1 Axes>"
      ]
     },
     "metadata": {},
     "output_type": "display_data"
    }
   ],
   "source": [
    "plt.figure(figsize=(16,8))\n",
    "plt.plot(K, distortions, 'bx-')\n",
    "plt.xlabel('k')\n",
    "plt.ylabel('Distortion')\n",
    "plt.title('The Elbow Method showing the optimal k')\n",
    "plt.show()"
   ]
  },
  {
   "cell_type": "code",
   "execution_count": 10,
   "metadata": {},
   "outputs": [
    {
     "data": {
      "text/plain": [
       "KMeans(n_clusters=3)"
      ]
     },
     "execution_count": 10,
     "metadata": {},
     "output_type": "execute_result"
    }
   ],
   "source": [
    "kmeanModel = KMeans(n_clusters=3)\n",
    "kmeanModel.fit(df)"
   ]
  },
  {
   "cell_type": "code",
   "execution_count": null,
   "metadata": {},
   "outputs": [],
   "source": []
  }
 ],
 "metadata": {
  "kernelspec": {
   "display_name": "Python 3",
   "language": "python",
   "name": "python3"
  },
  "language_info": {
   "codemirror_mode": {
    "name": "ipython",
    "version": 3
   },
   "file_extension": ".py",
   "mimetype": "text/x-python",
   "name": "python",
   "nbconvert_exporter": "python",
   "pygments_lexer": "ipython3",
   "version": "3.8.5"
  }
 },
 "nbformat": 4,
 "nbformat_minor": 4
}
