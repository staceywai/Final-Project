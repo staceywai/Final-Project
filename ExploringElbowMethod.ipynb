{
 "cells": [
  {
   "cell_type": "code",
   "execution_count": 4,
   "metadata": {},
   "outputs": [
    {
     "name": "stdout",
     "output_type": "stream",
     "text": [
      "   Unnamed: 0  Happiness_Score        GDP  Social_Support  \\\n",
      "0           0           7.8087  10.639267        0.954330   \n",
      "1           1           7.6456  10.774001        0.955991   \n",
      "2           2           7.5599  10.979933        0.942847   \n",
      "3           3           7.5045  10.772559        0.974670   \n",
      "4           4           7.4880  11.087804        0.952487   \n",
      "\n",
      "   Life_Expectancy (Happiness)  Freedom_Score  Generosity  Corruption_Score  \\\n",
      "0                    71.900825       0.949172   -0.059482          0.195445   \n",
      "1                    72.402504       0.951444    0.066202          0.168489   \n",
      "2                    74.102448       0.921337    0.105911          0.303728   \n",
      "3                    73.000000       0.948892    0.246944          0.711710   \n",
      "4                    73.200783       0.955750    0.134533          0.263218   \n",
      "\n",
      "   Happiness (Dystopia)  Beer_Servings  ...  under-fivedeaths  Polio  \\\n",
      "0              1.972317          263.0  ...               0.0   97.0   \n",
      "1              1.972317          224.0  ...               0.0   93.0   \n",
      "2              1.972317          185.0  ...               0.0   97.0   \n",
      "3              1.972317          233.0  ...               0.0   92.0   \n",
      "4              1.972317          169.0  ...               0.0   95.0   \n",
      "\n",
      "   Diphtheria  HIV/AIDS       GDP.1  Population  thinness1-19years  \\\n",
      "0        97.0       0.1  4245.39744   5479531.0                0.9   \n",
      "1        93.0       0.1  5314.64416   5683483.0                1.1   \n",
      "2        97.0       0.1  8989.84240   8282396.0                0.4   \n",
      "3        92.0       0.1  5734.44360     33815.0                1.0   \n",
      "4        95.0       0.1  7455.24654    518867.0                0.8   \n",
      "\n",
      "   thinness5-9years    HDI  Schooling  \n",
      "0               0.8  0.893       17.0  \n",
      "1               0.9  0.923       19.2  \n",
      "2               0.3  0.938       16.0  \n",
      "3               0.9  0.919       19.0  \n",
      "4               0.7  0.948       17.7  \n",
      "\n",
      "[5 rows x 30 columns]\n"
     ]
    }
   ],
   "source": [
    "import pandas as pd\n",
    "import numpy as np\n",
    "import matplotlib.pyplot as plt\n",
    "\n",
    "from sklearn.cluster import KMeans\n",
    "from sklearn import datasets\n",
    "\n",
    "\n",
    "df=pd.read_csv('Resources/Data/combined_data.csv')\n",
    "df=df.drop(columns=['Country'])\n",
    "print(df.head())"
   ]
  },
  {
   "cell_type": "code",
   "execution_count": 5,
   "metadata": {},
   "outputs": [],
   "source": [
    "distortions = []\n",
    "K = range(1,10)\n",
    "for k in K:\n",
    "    kmeanModel = KMeans(n_clusters=k)\n",
    "    kmeanModel.fit(df)\n",
    "    distortions.append(kmeanModel.inertia_)"
   ]
  },
  {
   "cell_type": "code",
   "execution_count": 6,
   "metadata": {},
   "outputs": [
    {
     "data": {
      "image/png": "[encoded data removed]",
      "text/plain": [
       "<Figure size 1152x576 with 1 Axes>"
      ]
     },
     "metadata": {
      "needs_background": "light"
     },
     "output_type": "display_data"
    }
   ],
   "source": [
    "plt.figure(figsize=(16,8))\n",
    "plt.plot(K, distortions, 'bx-')\n",
    "plt.xlabel('k')\n",
    "plt.ylabel('Distortion')\n",
    "plt.title('The Elbow Method showing the optimal k')\n",
    "plt.show()"
   ]
  },
  {
   "cell_type": "code",
   "execution_count": 7,
   "metadata": {},
   "outputs": [
    {
     "data": {
      "text/plain": [
       "KMeans(n_clusters=3)"
      ]
     },
     "execution_count": 7,
     "metadata": {},
     "output_type": "execute_result"
    }
   ],
   "source": [
    "kmeanModel = KMeans(n_clusters=3)\n",
    "kmeanModel.fit(df)"
   ]
  },
  {
   "cell_type": "code",
   "execution_count": null,
   "metadata": {},
   "outputs": [],
   "source": []
  }
 ],
 "metadata": {
  "kernelspec": {
   "display_name": "Python 3",
   "language": "python",
   "name": "python3"
  },
  "language_info": {
   "codemirror_mode": {
    "name": "ipython",
    "version": 3
   },
   "file_extension": ".py",
   "mimetype": "text/x-python",
   "name": "python",
   "nbconvert_exporter": "python",
   "pygments_lexer": "ipython3",
   "version": "3.8.5"
  }
 },
 "nbformat": 4,
 "nbformat_minor": 4
}
